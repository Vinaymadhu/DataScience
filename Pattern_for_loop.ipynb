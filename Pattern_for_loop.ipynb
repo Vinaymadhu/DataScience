{
 "cells": [
  {
   "cell_type": "code",
   "execution_count": 3,
   "id": "e0f125a6",
   "metadata": {},
   "outputs": [],
   "source": [
    "# Pattern 1:"
   ]
  },
  {
   "cell_type": "code",
   "execution_count": 53,
   "id": "2bf32113",
   "metadata": {},
   "outputs": [
    {
     "name": "stdout",
     "output_type": "stream",
     "text": [
      "1\n",
      "1 2\n",
      "1 2 3\n",
      "1 2 3 4\n",
      "1 2 3 4 5\n"
     ]
    }
   ],
   "source": [
    "a=\"\"\n",
    "# for i in range(1,6):\n",
    "#     a=a+str(i)+\" \"\n",
    "#     print(a)\n",
    "\n",
    "# or\n",
    "a=0\n",
    "for i in range(1,6):\n",
    "    a=a*10+i\n",
    "    print(\" \".join(str(a)))"
   ]
  },
  {
   "cell_type": "code",
   "execution_count": null,
   "id": "d784260b",
   "metadata": {},
   "outputs": [],
   "source": [
    "# Pattern 2:"
   ]
  },
  {
   "cell_type": "code",
   "execution_count": 54,
   "id": "af3afacf",
   "metadata": {},
   "outputs": [
    {
     "name": "stdout",
     "output_type": "stream",
     "text": [
      "6\n",
      "A \n",
      "A B \n",
      "A B C \n",
      "A B C D \n",
      "A B C D E \n"
     ]
    }
   ],
   "source": [
    "range_of_max=int(input())\n",
    "data=\"\"\n",
    "for i in range(1,range_of_max):\n",
    "    data=data+chr(64+i)+\" \"\n",
    "    print(data)"
   ]
  },
  {
   "cell_type": "code",
   "execution_count": null,
   "id": "bb2b6b12",
   "metadata": {},
   "outputs": [],
   "source": [
    "# Pattern 3:"
   ]
  },
  {
   "cell_type": "code",
   "execution_count": 55,
   "id": "aaec6367",
   "metadata": {},
   "outputs": [
    {
     "name": "stdout",
     "output_type": "stream",
     "text": [
      "6\n",
      "* \n",
      "* * \n",
      "* * * \n",
      "* * * * \n",
      "* * * * * \n"
     ]
    }
   ],
   "source": [
    "range_of_max=int(input())\n",
    "for i in range(1,range_of_max):\n",
    "#     a=a+str(i)+\" \"\n",
    "    print(i*\"* \")"
   ]
  },
  {
   "cell_type": "code",
   "execution_count": null,
   "id": "86a3e641",
   "metadata": {},
   "outputs": [],
   "source": [
    "# Pattern 4:"
   ]
  },
  {
   "cell_type": "code",
   "execution_count": 56,
   "id": "7dc4fae5",
   "metadata": {},
   "outputs": [
    {
     "name": "stdout",
     "output_type": "stream",
     "text": [
      "6\n",
      "1\n",
      "2 2\n",
      "3 3 3\n",
      "4 4 4 4\n",
      "5 5 5 5 5\n"
     ]
    }
   ],
   "source": [
    "range_of_max=int(input())\n",
    "for i in range(1,range_of_max):\n",
    "#     a=a+str(i)+\" \"\n",
    "    print(\" \".join(i*str(i)))"
   ]
  },
  {
   "cell_type": "code",
   "execution_count": null,
   "id": "b0c00e50",
   "metadata": {},
   "outputs": [],
   "source": [
    "# Pattern 5:"
   ]
  },
  {
   "cell_type": "code",
   "execution_count": 57,
   "id": "349092ac",
   "metadata": {},
   "outputs": [
    {
     "name": "stdout",
     "output_type": "stream",
     "text": [
      "6\n",
      "A\n",
      "B B\n",
      "C C C\n",
      "D D D D\n",
      "E E E E E\n"
     ]
    }
   ],
   "source": [
    "range_of_max=int(input())\n",
    "data=\"\"\n",
    "for i in range(1,range_of_max):\n",
    "#     data=data+chr(64+i)+\" \"\n",
    "    print(\" \".join(i*str(chr(64+i))))"
   ]
  },
  {
   "cell_type": "code",
   "execution_count": null,
   "id": "ac71aaa4",
   "metadata": {},
   "outputs": [],
   "source": [
    "# Pattern 6:"
   ]
  },
  {
   "cell_type": "code",
   "execution_count": 58,
   "id": "b5e77ae9",
   "metadata": {},
   "outputs": [
    {
     "name": "stdout",
     "output_type": "stream",
     "text": [
      "6\n",
      "          *\n",
      "        * *\n",
      "      * * *\n",
      "    * * * *\n",
      "  * * * * *\n"
     ]
    }
   ],
   "source": [
    "range_of_max=int(input())\n",
    "for i in range(1,range_of_max):\n",
    "#     a=a+str(i)+\" \"\n",
    "    print(\" \".join((range_of_max-i)*\" \"+i*\"*\"))"
   ]
  },
  {
   "cell_type": "code",
   "execution_count": null,
   "id": "6a38468c",
   "metadata": {},
   "outputs": [],
   "source": [
    "# Pattern 7:"
   ]
  },
  {
   "cell_type": "code",
   "execution_count": 59,
   "id": "9e86274d",
   "metadata": {},
   "outputs": [
    {
     "name": "stdout",
     "output_type": "stream",
     "text": [
      "6\n",
      "         1          \n",
      "        1 2         \n",
      "       1 2 3        \n",
      "      1 2 3 4       \n",
      "     1 2 3 4 5      \n"
     ]
    }
   ],
   "source": [
    "range_of_max=int(input())\n",
    "star=\"\"\n",
    "for i in range(1,range_of_max):\n",
    "    star=star+str(i)+\" \"\n",
    "    print(star.center(20,\" \"))"
   ]
  },
  {
   "cell_type": "code",
   "execution_count": null,
   "id": "ab0bb9c9",
   "metadata": {},
   "outputs": [],
   "source": [
    "# Pattern 8:"
   ]
  },
  {
   "cell_type": "code",
   "execution_count": 60,
   "id": "fd37eedd",
   "metadata": {},
   "outputs": [
    {
     "name": "stdout",
     "output_type": "stream",
     "text": [
      "6\n",
      "          5         \n",
      "         4 5        \n",
      "        3 4 5       \n",
      "       2 3 4 5      \n",
      "      1 2 3 4 5     \n"
     ]
    }
   ],
   "source": [
    "range_of_max=int(input())\n",
    "data=\"\"\n",
    "for i in range(1,range_of_max):\n",
    "    data=\" \"+str(range_of_max-i)+data\n",
    "    print(data.center(20, \" \"))"
   ]
  },
  {
   "cell_type": "code",
   "execution_count": null,
   "id": "e6cb1936",
   "metadata": {},
   "outputs": [],
   "source": [
    "# Pattern 9:"
   ]
  },
  {
   "cell_type": "code",
   "execution_count": 61,
   "id": "a0585d3e",
   "metadata": {},
   "outputs": [
    {
     "name": "stdout",
     "output_type": "stream",
     "text": [
      "6\n",
      "         A          \n",
      "        A B         \n",
      "       A B C        \n",
      "      A B C D       \n",
      "     A B C D E      \n"
     ]
    }
   ],
   "source": [
    "range_of_max=int(input())\n",
    "data=\"\"\n",
    "for i in range(1,range_of_max):\n",
    "    data=data+chr(64+i)+\" \"\n",
    "    print(data.center(20, \" \"))"
   ]
  },
  {
   "cell_type": "code",
   "execution_count": null,
   "id": "21b9cbb2",
   "metadata": {},
   "outputs": [],
   "source": [
    "# Pattern 10:"
   ]
  },
  {
   "cell_type": "code",
   "execution_count": 10,
   "id": "75a57db6",
   "metadata": {},
   "outputs": [
    {
     "name": "stdout",
     "output_type": "stream",
     "text": [
      "6\n",
      "          E         \n",
      "         D E        \n",
      "        C D E       \n",
      "       B C D E      \n",
      "      A B C D E     \n"
     ]
    }
   ],
   "source": [
    "range_of_max=int(input())\n",
    "data=\"\"\n",
    "for i in range(1,range_of_max):\n",
    "    data=\" \"+chr(range_of_max+64-i)+data\n",
    "    print(data.center(20, \" \"))"
   ]
  },
  {
   "cell_type": "code",
   "execution_count": null,
   "id": "bb8165a7",
   "metadata": {},
   "outputs": [],
   "source": [
    "# Pattern 11:"
   ]
  },
  {
   "cell_type": "code",
   "execution_count": 11,
   "id": "c25a038d",
   "metadata": {},
   "outputs": [
    {
     "name": "stdout",
     "output_type": "stream",
     "text": [
      "6\n",
      "         *          \n",
      "        ***         \n",
      "       *****        \n",
      "      *******       \n",
      "     *********      \n",
      "    ***********     \n"
     ]
    }
   ],
   "source": [
    "range_of_max=int(input())\n",
    "for i in range(1,range_of_max*2,2):\n",
    "    star=i*\"*\"\n",
    "    print(star.center(20,\" \"))"
   ]
  },
  {
   "cell_type": "code",
   "execution_count": null,
   "id": "70b3c60c",
   "metadata": {},
   "outputs": [],
   "source": [
    "# Pattern 12:"
   ]
  },
  {
   "cell_type": "code",
   "execution_count": 12,
   "id": "909c27fb",
   "metadata": {},
   "outputs": [
    {
     "name": "stdout",
     "output_type": "stream",
     "text": [
      "6\n",
      "         1          \n",
      "        2 2         \n",
      "       3 3 3        \n",
      "      4 4 4 4       \n",
      "     5 5 5 5 5      \n"
     ]
    }
   ],
   "source": [
    "range_of_max=int(input())\n",
    "for i in range(1,range_of_max):\n",
    "    a=\" \".join(i*str(i))\n",
    "    print(a.center(20,\" \"))"
   ]
  },
  {
   "cell_type": "code",
   "execution_count": null,
   "id": "ff905d23",
   "metadata": {},
   "outputs": [],
   "source": [
    "# Pattern 13:"
   ]
  },
  {
   "cell_type": "code",
   "execution_count": 13,
   "id": "62a10e6e",
   "metadata": {},
   "outputs": [
    {
     "name": "stdout",
     "output_type": "stream",
     "text": [
      "6\n",
      "         A          \n",
      "        B B         \n",
      "       C C C        \n",
      "      D D D D       \n",
      "     E E E E E      \n"
     ]
    }
   ],
   "source": [
    "range_of_max=int(input())\n",
    "for i in range(1,range_of_max):\n",
    "    a=\" \".join(i*str(chr(64+i)))\n",
    "    print(a.center(20,\" \"))"
   ]
  },
  {
   "cell_type": "code",
   "execution_count": null,
   "id": "820554fc",
   "metadata": {},
   "outputs": [],
   "source": [
    "# Pattern 14:"
   ]
  },
  {
   "cell_type": "code",
   "execution_count": 14,
   "id": "025cc0fd",
   "metadata": {},
   "outputs": [
    {
     "name": "stdout",
     "output_type": "stream",
     "text": [
      "6\n",
      "1 2 3 4 5 6\n",
      "1 2 3 4 5\n",
      "1 2 3 4\n",
      "1 2 3\n",
      "1 2\n",
      "1\n"
     ]
    }
   ],
   "source": [
    "range_of_max=int(input())\n",
    "for i in range(range_of_max,0,-1):\n",
    "    a = \"\"\n",
    "    for j in range(1,i+1):\n",
    "        a=a+str(j)\n",
    "    print(\" \".join(a))"
   ]
  },
  {
   "cell_type": "code",
   "execution_count": null,
   "id": "ce505466",
   "metadata": {},
   "outputs": [],
   "source": [
    "# Pattern 15:"
   ]
  },
  {
   "cell_type": "code",
   "execution_count": 18,
   "id": "ad5e625d",
   "metadata": {},
   "outputs": [
    {
     "name": "stdout",
     "output_type": "stream",
     "text": [
      "6\n",
      "5 4 3 2 1 \n",
      "5 4 3 2 \n",
      "5 4 3 \n",
      "5 4 \n",
      "5 \n"
     ]
    }
   ],
   "source": [
    "range_of_max=int(input())\n",
    "\n",
    "for i in range(range_of_max-1,0,-1):\n",
    "    data=\"\"\n",
    "    for j in range(1, i+1):\n",
    "        data=data+str(range_of_max-j)+\" \"\n",
    "    print(data)"
   ]
  },
  {
   "cell_type": "code",
   "execution_count": null,
   "id": "c874edb9",
   "metadata": {},
   "outputs": [],
   "source": [
    "# Pattern 16:"
   ]
  },
  {
   "cell_type": "code",
   "execution_count": 21,
   "id": "f2b55eb1",
   "metadata": {},
   "outputs": [
    {
     "name": "stdout",
     "output_type": "stream",
     "text": [
      "5\n",
      "5 4\n",
      "5 4 3\n",
      "5 4 3 2\n",
      "5 4 3 2 1\n"
     ]
    }
   ],
   "source": [
    "a=\"\"\n",
    "for i in range(1,6):\n",
    "    a=a+str(6-i)\n",
    "    print(\" \".join(a))"
   ]
  },
  {
   "cell_type": "code",
   "execution_count": null,
   "id": "e1ffe3cb",
   "metadata": {},
   "outputs": [],
   "source": [
    "# Pattern 17:"
   ]
  },
  {
   "cell_type": "code",
   "execution_count": 22,
   "id": "381d8e03",
   "metadata": {},
   "outputs": [
    {
     "name": "stdout",
     "output_type": "stream",
     "text": [
      "6\n",
      "1 \n",
      "2 3 \n",
      "4 5 6 \n",
      "7 8 9 10 \n",
      "11 12 13 14 15 \n"
     ]
    }
   ],
   "source": [
    "num=0\n",
    "range_of_max=int(input())\n",
    "for i in range(1,range_of_max):\n",
    "    a = \"\"\n",
    "    for j in range(0,i):\n",
    "        num+=1\n",
    "        a=a+str(num)+\" \"\n",
    "    print(a)"
   ]
  },
  {
   "cell_type": "code",
   "execution_count": null,
   "id": "2ed38b72",
   "metadata": {},
   "outputs": [],
   "source": [
    "# Pattern 18:"
   ]
  },
  {
   "cell_type": "code",
   "execution_count": 23,
   "id": "5432f058",
   "metadata": {},
   "outputs": [
    {
     "name": "stdout",
     "output_type": "stream",
     "text": [
      "6\n",
      "A B C D E \n",
      "A B C D \n",
      "A B C \n",
      "A B \n",
      "A \n"
     ]
    }
   ],
   "source": [
    "range_of_max=int(input())\n",
    "for i in range(range_of_max,1,-1):\n",
    "    data = \"\"\n",
    "    for j in range(1,i):\n",
    "        data=data+chr(64+j)+\" \"\n",
    "    print(data)"
   ]
  },
  {
   "cell_type": "code",
   "execution_count": 24,
   "id": "668aa3e5",
   "metadata": {},
   "outputs": [],
   "source": [
    "# Pattern 19:"
   ]
  },
  {
   "cell_type": "code",
   "execution_count": 26,
   "id": "749f5450",
   "metadata": {},
   "outputs": [
    {
     "name": "stdout",
     "output_type": "stream",
     "text": [
      "6\n",
      "******\n",
      "*****\n",
      "****\n",
      "***\n",
      "**\n",
      "*\n"
     ]
    }
   ],
   "source": [
    "range_of_max=int(input())\n",
    "for i in range(range_of_max,0,-1):\n",
    "    print(i*\"*\")"
   ]
  },
  {
   "cell_type": "code",
   "execution_count": null,
   "id": "4c1ad710",
   "metadata": {},
   "outputs": [],
   "source": [
    "# Pattern 20:"
   ]
  },
  {
   "cell_type": "code",
   "execution_count": 13,
   "id": "e2868759",
   "metadata": {},
   "outputs": [
    {
     "name": "stdout",
     "output_type": "stream",
     "text": [
      "6\n",
      "******\n",
      " *****\n",
      "  ****\n",
      "   ***\n",
      "    **\n",
      "     *\n"
     ]
    }
   ],
   "source": [
    "range_of_max=int(input())\n",
    "for i in range(range_of_max,0,-1):\n",
    "#     a=a+str(i)+\" \"\n",
    "    print((range_of_char-i)*\" \"+i*\"*\")"
   ]
  },
  {
   "cell_type": "code",
   "execution_count": null,
   "id": "ebb8eb76",
   "metadata": {},
   "outputs": [],
   "source": []
  },
  {
   "cell_type": "code",
   "execution_count": null,
   "id": "828b0ca8",
   "metadata": {},
   "outputs": [],
   "source": [
    "# Pattern 21:"
   ]
  },
  {
   "cell_type": "code",
   "execution_count": 15,
   "id": "6795f42a",
   "metadata": {},
   "outputs": [
    {
     "name": "stdout",
     "output_type": "stream",
     "text": [
      "6\n",
      "*\n",
      "**\n",
      "***\n",
      "****\n",
      "*****\n",
      "****\n",
      "***\n",
      "**\n",
      "*\n"
     ]
    }
   ],
   "source": [
    "range_of_max=int(input())\n",
    "\n",
    "for i in range(1,range_of_max):\n",
    "    if i==5:\n",
    "        for j in range(range_of_max-1,0,-1):\n",
    "            print(j*\"*\")\n",
    "    else:\n",
    "        print(i*\"*\")"
   ]
  },
  {
   "cell_type": "code",
   "execution_count": null,
   "id": "ff02db66",
   "metadata": {},
   "outputs": [],
   "source": [
    "# Pattern 22:"
   ]
  },
  {
   "cell_type": "code",
   "execution_count": 27,
   "id": "7980844a",
   "metadata": {},
   "outputs": [
    {
     "name": "stdout",
     "output_type": "stream",
     "text": [
      "6\n",
      "******\n",
      "*****\n",
      "****\n",
      "***\n",
      "**\n",
      "*\n",
      "**\n",
      "***\n",
      "****\n",
      "*****\n",
      "******\n"
     ]
    }
   ],
   "source": [
    "range_of_max=int(input())\n",
    "\n",
    "for i in range(range_of_max,0,-1):\n",
    "    if i==1:\n",
    "        for j in range(1,range_of_max+1):\n",
    "            print(j*\"*\")\n",
    "    else:\n",
    "        print(i*\"*\")"
   ]
  },
  {
   "cell_type": "code",
   "execution_count": 28,
   "id": "465dfc8a",
   "metadata": {},
   "outputs": [],
   "source": [
    "# Pattern 23:"
   ]
  },
  {
   "cell_type": "code",
   "execution_count": 29,
   "id": "6e0b1cf9",
   "metadata": {},
   "outputs": [
    {
     "name": "stdout",
     "output_type": "stream",
     "text": [
      "6\n",
      "     *\n",
      "    **\n",
      "   ***\n",
      "  ****\n",
      " *****\n",
      "  ****\n",
      "   ***\n",
      "    **\n",
      "     *\n"
     ]
    }
   ],
   "source": [
    "range_of_max=int(input())\n",
    "for i in range(1,range_of_max):\n",
    "    if i==5:\n",
    "        for j in range(range_of_max-1, 0,-1):\n",
    "            print((range_of_max-j)*\" \"+j*\"*\")\n",
    "    else:\n",
    "        print((range_of_max-i)*\" \"+i*\"*\")"
   ]
  },
  {
   "cell_type": "code",
   "execution_count": null,
   "id": "4f793bac",
   "metadata": {},
   "outputs": [],
   "source": [
    "# Pattern 24:"
   ]
  },
  {
   "cell_type": "code",
   "execution_count": 30,
   "id": "a2920908",
   "metadata": {},
   "outputs": [
    {
     "name": "stdout",
     "output_type": "stream",
     "text": [
      "6\n",
      "******\n",
      " *****\n",
      "  ****\n",
      "   ***\n",
      "    **\n",
      "     *\n",
      "    **\n",
      "   ***\n",
      "  ****\n",
      " *****\n",
      "******\n"
     ]
    }
   ],
   "source": [
    "range_of_max=int(input())\n",
    "for i in range(range_of_max,0,-1):\n",
    "    if i==1:\n",
    "        for j in range(1,range_of_max+1):\n",
    "            print((range_of_max-j)*\" \"+j*\"*\")\n",
    "    else:\n",
    "        print((range_of_max-i)*\" \"+i*\"*\")"
   ]
  },
  {
   "cell_type": "code",
   "execution_count": null,
   "id": "0edd5e21",
   "metadata": {},
   "outputs": [],
   "source": [
    "# Pattern 25:"
   ]
  },
  {
   "cell_type": "code",
   "execution_count": 34,
   "id": "3afda02b",
   "metadata": {},
   "outputs": [
    {
     "name": "stdout",
     "output_type": "stream",
     "text": [
      "10\n",
      "     *********      \n",
      "      *******       \n",
      "       *****        \n",
      "        ***         \n",
      "         *          \n",
      "        ***         \n",
      "       *****        \n",
      "      *******       \n",
      "     *********      \n"
     ]
    }
   ],
   "source": [
    "range_of_max=int(input())\n",
    "for i in range(1,range_of_max,2):\n",
    "    if i ==1:\n",
    "        for j in range(range_of_max-1,0,-2):\n",
    "\n",
    "            star=j*\"*\"\n",
    "            print(star.center(20,\" \"))\n",
    "    else:\n",
    "        star=i*\"*\"\n",
    "        print(star.center(20,\" \"))"
   ]
  },
  {
   "cell_type": "code",
   "execution_count": 35,
   "id": "415f6735",
   "metadata": {},
   "outputs": [],
   "source": [
    "# Pattern 26:"
   ]
  },
  {
   "cell_type": "code",
   "execution_count": 36,
   "id": "b63311fd",
   "metadata": {},
   "outputs": [
    {
     "name": "stdout",
     "output_type": "stream",
     "text": [
      "6\n",
      "*        *\n",
      "**      **\n",
      "***    ***\n",
      "****  ****\n",
      "**********\n"
     ]
    }
   ],
   "source": [
    "range_of_max=int(input())\n",
    "for i in range(1,range_of_max):\n",
    "    a=(range_of_max-(i+1))*\" \"+i*\"*\"\n",
    "    print(i*\"*\"+(range_of_max-(i+1))*\" \"+a)"
   ]
  },
  {
   "cell_type": "code",
   "execution_count": 74,
   "id": "ec9dff5c",
   "metadata": {},
   "outputs": [],
   "source": [
    "# Pattern 27:"
   ]
  },
  {
   "cell_type": "code",
   "execution_count": 37,
   "id": "9a871326",
   "metadata": {},
   "outputs": [
    {
     "name": "stdout",
     "output_type": "stream",
     "text": [
      "6\n",
      "************\n",
      "*****  *****\n",
      "****    ****\n",
      "***      ***\n",
      "**        **\n",
      "*          *\n"
     ]
    }
   ],
   "source": [
    "range_of_max=int(input())\n",
    "for i in range(range_of_max,0,-1):\n",
    "    a=(range_of_max-i)*\" \"+i*\"*\"\n",
    "    print(i*\"*\"+(range_of_max-i)*\" \"+a)"
   ]
  },
  {
   "cell_type": "code",
   "execution_count": null,
   "id": "6a49c735",
   "metadata": {},
   "outputs": [],
   "source": [
    "# Pattern 28:"
   ]
  },
  {
   "cell_type": "code",
   "execution_count": 38,
   "id": "567b7ebe",
   "metadata": {},
   "outputs": [
    {
     "name": "stdout",
     "output_type": "stream",
     "text": [
      "6\n",
      "*        *\n",
      "**      **\n",
      "***    ***\n",
      "****  ****\n",
      "**********\n",
      "****  ****\n",
      "***    ***\n",
      "**      **\n",
      "*        *\n"
     ]
    }
   ],
   "source": [
    "range_of_max=int(input())\n",
    "for i in range(1,range_of_max):\n",
    "    if i!=range_of_max-1:\n",
    "        a=(range_of_max-(i+1))*\" \"+i*\"*\"\n",
    "        print(i*\"*\"+(range_of_max-(i+1))*\" \"+a)\n",
    "    else:\n",
    "        for i in range(range_of_max-1,0,-1):\n",
    "            a=(range_of_max-(i+1))*\" \"+i*\"*\"\n",
    "            print(i*\"*\"+(range_of_max-(i+1))*\" \"+a)"
   ]
  },
  {
   "cell_type": "code",
   "execution_count": null,
   "id": "d37b549d",
   "metadata": {},
   "outputs": [],
   "source": [
    "# Pattern 29:"
   ]
  },
  {
   "cell_type": "code",
   "execution_count": 39,
   "id": "b4309aed",
   "metadata": {},
   "outputs": [
    {
     "name": "stdout",
     "output_type": "stream",
     "text": [
      "6\n",
      "**********\n",
      "****  ****\n",
      "***    ***\n",
      "**      **\n",
      "*        *\n",
      "*        *\n",
      "**      **\n",
      "***    ***\n",
      "****  ****\n",
      "**********\n"
     ]
    }
   ],
   "source": [
    "range_of_max=int(input())\n",
    "for i in range(range_of_max-1,0,-1):\n",
    "            a=(range_of_max-(i+1))*\" \"+i*\"*\"\n",
    "            print(i*\"*\"+(range_of_max-(i+1))*\" \"+a)\n",
    "            if i ==1:\n",
    "                for j in range(1, range_of_max):\n",
    "                    a = (range_of_max - (j + 1)) * \" \" + j * \"*\"\n",
    "                    print(j * \"*\" + (range_of_max - (j + 1)) * \" \" + a)"
   ]
  },
  {
   "cell_type": "code",
   "execution_count": 91,
   "id": "f671410a",
   "metadata": {},
   "outputs": [],
   "source": [
    "# Pattern 30:"
   ]
  },
  {
   "cell_type": "code",
   "execution_count": 40,
   "id": "c697ae0a",
   "metadata": {},
   "outputs": [
    {
     "name": "stdout",
     "output_type": "stream",
     "text": [
      "6\n",
      "*\n",
      "**\n",
      "* *\n",
      "*  *\n",
      "*****\n"
     ]
    }
   ],
   "source": [
    "range_of_max=int(input())\n",
    "for i in range(1,range_of_max):\n",
    "    data=\"\"\n",
    "    if i==range_of_max-1:\n",
    "        data=data+i*\"*\"\n",
    "    else:\n",
    "        for j in range(1, i+1):\n",
    "            if j==1 or j==i:\n",
    "                data=data+\"*\"\n",
    "            else:\n",
    "                data=data+\" \"\n",
    "    print(data)"
   ]
  },
  {
   "cell_type": "code",
   "execution_count": null,
   "id": "e6e8f88f",
   "metadata": {},
   "outputs": [],
   "source": [
    "# Pattern 31:"
   ]
  },
  {
   "cell_type": "code",
   "execution_count": 41,
   "id": "6b3fabf7",
   "metadata": {},
   "outputs": [
    {
     "name": "stdout",
     "output_type": "stream",
     "text": [
      "6\n",
      "*****\n",
      "*  *\n",
      "* *\n",
      "**\n",
      "*\n"
     ]
    }
   ],
   "source": [
    "range_of_max=int(input())\n",
    "for i in range(range_of_max-1,0,-1):\n",
    "    data=\"\"\n",
    "    if i==range_of_max-1:\n",
    "        data=data+i*\"*\"\n",
    "    else:\n",
    "        for j in range(1, i+1):\n",
    "            if j==1 or j==i:\n",
    "                data=data+\"*\"\n",
    "            else:\n",
    "                data=data+\" \"\n",
    "    print(data)"
   ]
  },
  {
   "cell_type": "code",
   "execution_count": null,
   "id": "54e6115b",
   "metadata": {},
   "outputs": [],
   "source": [
    "# Pattern 32:"
   ]
  },
  {
   "cell_type": "code",
   "execution_count": 42,
   "id": "8f4a9661",
   "metadata": {},
   "outputs": [
    {
     "name": "stdout",
     "output_type": "stream",
     "text": [
      "6\n",
      "     *\n",
      "    **\n",
      "   * *\n",
      "  *  *\n",
      " *****\n"
     ]
    }
   ],
   "source": [
    "range_of_char=int(input())\n",
    "for i in range(1,range_of_char):\n",
    "    data=\"\"\n",
    "    if i==range_of_char-1:\n",
    "        data=data+i*\"*\"\n",
    "    else:\n",
    "        for j in range(1, i+1):\n",
    "            if j==1 or j==i:\n",
    "                data=data+\"*\"\n",
    "            else:\n",
    "                data=data+\" \"\n",
    "    print((range_of_char-i)*\" \"+data)"
   ]
  },
  {
   "cell_type": "code",
   "execution_count": null,
   "id": "27b45459",
   "metadata": {},
   "outputs": [],
   "source": [
    "# Pattern 33:"
   ]
  },
  {
   "cell_type": "code",
   "execution_count": 43,
   "id": "8c72e969",
   "metadata": {},
   "outputs": [
    {
     "name": "stdout",
     "output_type": "stream",
     "text": [
      "6\n",
      "*****\n",
      "*  *\n",
      "* *\n",
      "**\n",
      "*\n",
      "**\n",
      "* *\n",
      "*  *\n",
      "*****\n"
     ]
    }
   ],
   "source": [
    "range_of_char=int(input())\n",
    "for i in range(1,range_of_char):\n",
    "    data=\"\"\n",
    "    if i==1:\n",
    "\n",
    "        for k in range(range_of_char - 1, 0, -1):\n",
    "                datak = \"\"\n",
    "                if k==range_of_char-1:\n",
    "                    datak=datak+(range_of_char-1)*\"*\"\n",
    "                else:\n",
    "                    for j in range(1, k + 1):\n",
    "                        if j == 1 or j == k:\n",
    "                            datak = datak + \"*\"\n",
    "                        else:\n",
    "                            datak = datak + \" \"\n",
    "                print(datak)\n",
    "    elif i==range_of_char-1:\n",
    "        data=data+i*\"*\"\n",
    "        print(data)\n",
    "    else:\n",
    "        for j in range(1, i+1):\n",
    "            if j==1 or j==i:\n",
    "                data=data+\"*\"\n",
    "            else:\n",
    "                data=data+\" \"\n",
    "        print(data)"
   ]
  },
  {
   "cell_type": "code",
   "execution_count": 24,
   "id": "4e29efbd",
   "metadata": {},
   "outputs": [],
   "source": [
    "# Pattern 34:"
   ]
  },
  {
   "cell_type": "code",
   "execution_count": 44,
   "id": "ac4152ed",
   "metadata": {},
   "outputs": [
    {
     "name": "stdout",
     "output_type": "stream",
     "text": [
      "6\n",
      "     *\n",
      "    **\n",
      "   * *\n",
      "  *  *\n",
      " *   *\n",
      "  *  *\n",
      "   * *\n",
      "    **\n",
      "     *\n"
     ]
    }
   ],
   "source": [
    "range_of_char=int(input())\n",
    "for i in range(1,range_of_char):\n",
    "    data=\"\"\n",
    "    if i==range_of_char-1:\n",
    "        for k in range(range_of_char-1,0,-1):\n",
    "                data=\"\"\n",
    "                for j in range(1, k+1):\n",
    "                    if j==1 or j==k:\n",
    "                        data=data+\"*\"\n",
    "                    else:\n",
    "                        data=data+\" \"\n",
    "                print((range_of_char-k)*\" \"+data)\n",
    "    else:\n",
    "        for j in range(1, i+1):\n",
    "            if j==1 or j==i:\n",
    "                data=data+\"*\"\n",
    "            else:\n",
    "                data=data+\" \"\n",
    "        print((range_of_char-i)*\" \"+data)"
   ]
  },
  {
   "cell_type": "code",
   "execution_count": null,
   "id": "70301dc0",
   "metadata": {},
   "outputs": [],
   "source": [
    "# Pattern 35:"
   ]
  },
  {
   "cell_type": "code",
   "execution_count": 45,
   "id": "6114a186",
   "metadata": {},
   "outputs": [
    {
     "name": "stdout",
     "output_type": "stream",
     "text": [
      "6\n",
      "*****\n",
      " *  *\n",
      "  * *\n",
      "   **\n",
      "    *\n",
      "   **\n",
      "  * *\n",
      " *  *\n",
      "*****\n"
     ]
    }
   ],
   "source": [
    "range_of_max=int(input())\n",
    "for i in range(range_of_max-1,0,-1):\n",
    "    data=\"\"\n",
    "    if i==1:\n",
    "        for k in range(1, range_of_max):\n",
    "            data = \"\"\n",
    "            if k == range_of_max - 1:\n",
    "                data = data + k * \"*\"\n",
    "            else:\n",
    "                for j in range(1, k + 1):\n",
    "                    if j == 1 or j == k:\n",
    "                        data = data + \"*\"\n",
    "                    else:\n",
    "                        data = data + \" \"\n",
    "            print((range_of_max - k-1) * \" \" + data)\n",
    "    elif i==range_of_max-1:\n",
    "        data=data+i*\"*\"\n",
    "        print((range_of_max-i-1)*\" \"+data)\n",
    "\n",
    "    else:\n",
    "        for j in range(1, i+1):\n",
    "            if j==1 or j==i:\n",
    "                data=data+\"*\"\n",
    "            else:\n",
    "                data=data+\" \"\n",
    "        print((range_of_max-i-1)*\" \"+data)"
   ]
  },
  {
   "cell_type": "code",
   "execution_count": null,
   "id": "a46afeb5",
   "metadata": {},
   "outputs": [],
   "source": [
    "# Pattern 36:"
   ]
  },
  {
   "cell_type": "code",
   "execution_count": 46,
   "id": "3e83bad6",
   "metadata": {},
   "outputs": [
    {
     "name": "stdout",
     "output_type": "stream",
     "text": [
      "6\n",
      "         *          \n",
      "        * *         \n",
      "       *   *        \n",
      "      *     *       \n",
      "     *       *      \n",
      "    ***********     \n"
     ]
    }
   ],
   "source": [
    "range_of_max=int(input())\n",
    "for i in range(1,range_of_max*2,2):\n",
    "    if i==1 or i==range_of_max*2-1:\n",
    "        star=i*\"*\"\n",
    "\n",
    "    else:     \n",
    "        star=\"*\"+(i-2)*\" \"+\"*\"\n",
    "    print(star.center(20,\" \"))"
   ]
  },
  {
   "cell_type": "code",
   "execution_count": null,
   "id": "600d20ae",
   "metadata": {},
   "outputs": [],
   "source": [
    "# Pattern 37:"
   ]
  },
  {
   "cell_type": "code",
   "execution_count": 47,
   "id": "e4b45bd1",
   "metadata": {},
   "outputs": [
    {
     "name": "stdout",
     "output_type": "stream",
     "text": [
      "6\n",
      "    ***********     \n",
      "     *       *      \n",
      "      *     *       \n",
      "       *   *        \n",
      "        * *         \n",
      "         *          \n"
     ]
    }
   ],
   "source": [
    "range_of_max=int(input())\n",
    "for i in range(1,range_of_max*2,2):\n",
    "    if i==1 or i==range_of_max*2-1:\n",
    "        star=(range_of_max*2-i)*\"*\"\n",
    "\n",
    "    else:     \n",
    "        star=\"*\"+(range_of_max*2-i-2)*\" \"+\"*\"\n",
    "    print(star.center(20,\" \"))"
   ]
  },
  {
   "cell_type": "code",
   "execution_count": 48,
   "id": "69484c86",
   "metadata": {},
   "outputs": [],
   "source": [
    "# Pattern 38"
   ]
  },
  {
   "cell_type": "code",
   "execution_count": 49,
   "id": "3e7703c3",
   "metadata": {},
   "outputs": [
    {
     "name": "stdout",
     "output_type": "stream",
     "text": [
      "6\n",
      "         *          \n",
      "        * *         \n",
      "       *   *        \n",
      "      *     *       \n",
      "     *       *      \n",
      "    *         *     \n",
      "     *       *      \n",
      "      *     *       \n",
      "       *   *        \n",
      "        * *         \n",
      "         *          \n"
     ]
    }
   ],
   "source": [
    "range_of_max=int(input())\n",
    "for i in range(1,range_of_max*2,2):\n",
    "    if i==1:\n",
    "        star=i*\"*\"\n",
    "        print(star.center(20,\" \"))\n",
    "    elif i==range_of_max*2-1:\n",
    "        for k in range(1, range_of_max * 2, 2):\n",
    "            if k == range_of_max * 2 - 1:\n",
    "                star = (range_of_max * 2 - k) * \"*\"\n",
    "                print(star.center(20,\" \"))\n",
    "\n",
    "            else:\n",
    "                star = \"*\" + (range_of_max * 2 - k - 2) * \" \" + \"*\"\n",
    "                print(star.center(20, \" \"))\n",
    "\n",
    "    else:\n",
    "        star=\"*\"+(i-2)*\" \"+\"*\"\n",
    "        print(star.center(20,\" \"))"
   ]
  },
  {
   "cell_type": "code",
   "execution_count": 92,
   "id": "ad705519",
   "metadata": {},
   "outputs": [],
   "source": [
    "# Pattern 39:"
   ]
  },
  {
   "cell_type": "code",
   "execution_count": 50,
   "id": "e59a158d",
   "metadata": {},
   "outputs": [
    {
     "name": "stdout",
     "output_type": "stream",
     "text": [
      "6\n",
      "    ***********     \n",
      "     *       *      \n",
      "      *     *       \n",
      "       *   *        \n",
      "        * *         \n",
      "         *          \n",
      "        * *         \n",
      "       *   *        \n",
      "      *     *       \n",
      "     *       *      \n",
      "    ***********     \n"
     ]
    }
   ],
   "source": [
    "range_of_max=int(input())\n",
    "for i in range(1,range_of_max*2,2):\n",
    "    if i==1:\n",
    "        star=(range_of_max*2-i)*\"*\"\n",
    "        print(star.center(20, \" \"))\n",
    "    elif i==range_of_max*2-1:\n",
    "        for k in range(1, range_of_max * 2, 2):\n",
    "            if k == 1 or k == range_of_max * 2 - 1:\n",
    "                star = k * \"*\"\n",
    "\n",
    "            else:\n",
    "                star = \"*\" + (k - 2) * \" \" + \"*\"\n",
    "            print(star.center(20, \" \"))\n",
    "\n",
    "    else:\n",
    "        star=\"*\"+(range_of_max*2-i-2)*\" \"+\"*\"\n",
    "        print(star.center(20,\" \"))"
   ]
  },
  {
   "cell_type": "code",
   "execution_count": 51,
   "id": "c36680d4",
   "metadata": {},
   "outputs": [],
   "source": [
    "# Pattern 40:"
   ]
  },
  {
   "cell_type": "code",
   "execution_count": 52,
   "id": "cd98123d",
   "metadata": {},
   "outputs": [
    {
     "name": "stdout",
     "output_type": "stream",
     "text": [
      "*****\n",
      "*****\n",
      "*****\n",
      "*****\n",
      "*****\n"
     ]
    }
   ],
   "source": [
    "for i in range(5):\n",
    "    print(5*\"*\")"
   ]
  },
  {
   "cell_type": "code",
   "execution_count": null,
   "id": "270004db",
   "metadata": {},
   "outputs": [],
   "source": []
  },
  {
   "cell_type": "code",
   "execution_count": null,
   "id": "d00129fd",
   "metadata": {},
   "outputs": [],
   "source": []
  },
  {
   "cell_type": "code",
   "execution_count": null,
   "id": "c8e9b825",
   "metadata": {},
   "outputs": [],
   "source": []
  },
  {
   "cell_type": "code",
   "execution_count": null,
   "id": "15410f1c",
   "metadata": {},
   "outputs": [],
   "source": []
  },
  {
   "cell_type": "code",
   "execution_count": null,
   "id": "1198bc84",
   "metadata": {},
   "outputs": [],
   "source": []
  },
  {
   "cell_type": "code",
   "execution_count": null,
   "id": "d40e49a9",
   "metadata": {},
   "outputs": [],
   "source": []
  }
 ],
 "metadata": {
  "kernelspec": {
   "display_name": "Python 3 (ipykernel)",
   "language": "python",
   "name": "python3"
  },
  "language_info": {
   "codemirror_mode": {
    "name": "ipython",
    "version": 3
   },
   "file_extension": ".py",
   "mimetype": "text/x-python",
   "name": "python",
   "nbconvert_exporter": "python",
   "pygments_lexer": "ipython3",
   "version": "3.9.6"
  }
 },
 "nbformat": 4,
 "nbformat_minor": 5
}

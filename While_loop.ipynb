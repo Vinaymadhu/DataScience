{
 "cells": [
  {
   "cell_type": "code",
   "execution_count": 11,
   "id": "09fdad1a",
   "metadata": {},
   "outputs": [],
   "source": [
    "# Pattern 1:"
   ]
  },
  {
   "cell_type": "code",
   "execution_count": 12,
   "id": "6bebd3d8",
   "metadata": {},
   "outputs": [
    {
     "name": "stdout",
     "output_type": "stream",
     "text": [
      "1\n",
      "1 2\n",
      "1 2 3\n",
      "1 2 3 4\n",
      "1 2 3 4 5\n",
      "1 2 3 4 5 6\n"
     ]
    }
   ],
   "source": [
    "x=6\n",
    "b=1\n",
    "a=0\n",
    "while x:\n",
    "    a=a*10+(b)\n",
    "    print(\" \".join(str(a)))\n",
    "    x=x-1\n",
    "    b+=1"
   ]
  },
  {
   "cell_type": "code",
   "execution_count": null,
   "id": "fb0a1c3b",
   "metadata": {},
   "outputs": [],
   "source": [
    "# Pattern 2:"
   ]
  },
  {
   "cell_type": "code",
   "execution_count": 15,
   "id": "479dd9b1",
   "metadata": {},
   "outputs": [
    {
     "name": "stdout",
     "output_type": "stream",
     "text": [
      "A\n",
      "A B\n",
      "A B C\n",
      "A B C D\n",
      "A B C D E\n",
      "A B C D E F\n"
     ]
    }
   ],
   "source": [
    "x=6\n",
    "a=\"\"\n",
    "while x:\n",
    "    a=a+chr(71-x)\n",
    "    print(\" \".join(a))\n",
    "    x-=1"
   ]
  },
  {
   "cell_type": "code",
   "execution_count": null,
   "id": "aca9416a",
   "metadata": {},
   "outputs": [],
   "source": [
    "# Pattern 3:"
   ]
  },
  {
   "cell_type": "code",
   "execution_count": 18,
   "id": "08ca552b",
   "metadata": {},
   "outputs": [
    {
     "name": "stdout",
     "output_type": "stream",
     "text": [
      "*\n",
      "* *\n",
      "* * *\n",
      "* * * *\n",
      "* * * * *\n",
      "* * * * * *\n"
     ]
    }
   ],
   "source": [
    "x=6\n",
    "while x:\n",
    "    print(\" \".join((7-x)*\"*\"))\n",
    "    x-=1"
   ]
  },
  {
   "cell_type": "code",
   "execution_count": null,
   "id": "67eac9b2",
   "metadata": {},
   "outputs": [],
   "source": [
    "# Pattern 4:"
   ]
  },
  {
   "cell_type": "code",
   "execution_count": 20,
   "id": "b4d2d271",
   "metadata": {},
   "outputs": [
    {
     "name": "stdout",
     "output_type": "stream",
     "text": [
      "1\n",
      "2 2\n",
      "3 3 3\n",
      "4 4 4 4\n",
      "5 5 5 5 5\n",
      "6 6 6 6 6 6\n"
     ]
    }
   ],
   "source": [
    "x=6\n",
    "while x:\n",
    "    print(\" \".join((7-x)*str((7-x))))\n",
    "    x-=1"
   ]
  },
  {
   "cell_type": "code",
   "execution_count": null,
   "id": "8c901f4e",
   "metadata": {},
   "outputs": [],
   "source": [
    "# Pattern 5:"
   ]
  },
  {
   "cell_type": "code",
   "execution_count": 21,
   "id": "a090d2b9",
   "metadata": {},
   "outputs": [
    {
     "name": "stdout",
     "output_type": "stream",
     "text": [
      "A\n",
      "B B\n",
      "C C C\n",
      "D D D D\n",
      "E E E E E\n",
      "F F F F F F\n"
     ]
    }
   ],
   "source": [
    "x=6\n",
    "while x:\n",
    "    print(\" \".join((7-x)*chr(71-x)))\n",
    "    x-=1"
   ]
  },
  {
   "cell_type": "code",
   "execution_count": null,
   "id": "b3b8e7fa",
   "metadata": {},
   "outputs": [],
   "source": [
    "# Pattern 6:"
   ]
  },
  {
   "cell_type": "code",
   "execution_count": 12,
   "id": "9aa1e7ef",
   "metadata": {},
   "outputs": [
    {
     "name": "stdout",
     "output_type": "stream",
     "text": [
      "            *\n",
      "          * *\n",
      "        * * *\n",
      "      * * * *\n",
      "    * * * * *\n",
      "  * * * * * *\n"
     ]
    }
   ],
   "source": [
    "x=6\n",
    "while x:\n",
    "    print(\" \".join((x)*\" \"+(7-x)*\"*\"))\n",
    "    x-=1"
   ]
  },
  {
   "cell_type": "code",
   "execution_count": null,
   "id": "a43a6f95",
   "metadata": {},
   "outputs": [],
   "source": [
    "# Pattern 7:"
   ]
  },
  {
   "cell_type": "code",
   "execution_count": 24,
   "id": "6ec3039e",
   "metadata": {},
   "outputs": [
    {
     "name": "stdout",
     "output_type": "stream",
     "text": [
      "         1          \n",
      "        1 2         \n",
      "       1 2 3        \n",
      "      1 2 3 4       \n",
      "     1 2 3 4 5      \n",
      "    1 2 3 4 5 6     \n"
     ]
    }
   ],
   "source": [
    "x=6\n",
    "b=1\n",
    "a=0\n",
    "while x:\n",
    "    a=a*10+(b)\n",
    "    print(\" \".join(str(a)).center(20,\" \"))\n",
    "    x=x-1\n",
    "    b+=1"
   ]
  },
  {
   "cell_type": "code",
   "execution_count": null,
   "id": "3c914823",
   "metadata": {},
   "outputs": [],
   "source": [
    "# Pattern 8:"
   ]
  },
  {
   "cell_type": "code",
   "execution_count": 27,
   "id": "b4c0feb8",
   "metadata": {},
   "outputs": [
    {
     "name": "stdout",
     "output_type": "stream",
     "text": [
      "          5         \n",
      "         4 5        \n",
      "        3 4 5       \n",
      "       2 3 4 5      \n",
      "      1 2 3 4 5     \n"
     ]
    }
   ],
   "source": [
    "x=5\n",
    "a=\"\"\n",
    "while x:\n",
    "    a=\" \"+str(x)+a\n",
    "    print(a.center(20,\" \"))\n",
    "    x-=1"
   ]
  },
  {
   "cell_type": "code",
   "execution_count": null,
   "id": "aa62f50d",
   "metadata": {},
   "outputs": [],
   "source": [
    "# Pattern 9:"
   ]
  },
  {
   "cell_type": "code",
   "execution_count": 28,
   "id": "e95aaf20",
   "metadata": {},
   "outputs": [
    {
     "name": "stdout",
     "output_type": "stream",
     "text": [
      "         A          \n",
      "        A B         \n",
      "       A B C        \n",
      "      A B C D       \n",
      "     A B C D E      \n",
      "    A B C D E F     \n"
     ]
    }
   ],
   "source": [
    "x=6\n",
    "a=\"\"\n",
    "while x:\n",
    "    a=a+chr(71-x)\n",
    "    print(\" \".join(a).center(20,\" \"))\n",
    "    x-=1"
   ]
  },
  {
   "cell_type": "code",
   "execution_count": null,
   "id": "46b4e8d2",
   "metadata": {},
   "outputs": [],
   "source": [
    "# Pattern 10:"
   ]
  },
  {
   "cell_type": "code",
   "execution_count": 13,
   "id": "b268e0ce",
   "metadata": {},
   "outputs": [
    {
     "name": "stdout",
     "output_type": "stream",
     "text": [
      "         E          \n",
      "        D E         \n",
      "       C D E        \n",
      "      B C D E       \n",
      "     A B C D E      \n"
     ]
    }
   ],
   "source": [
    "x=5\n",
    "a=\"\"\n",
    "while x:\n",
    "    a=chr(64+x)+a\n",
    "    print(\" \".join(a).center(20,\" \"))\n",
    "    x-=1"
   ]
  },
  {
   "cell_type": "code",
   "execution_count": null,
   "id": "c9fccaf9",
   "metadata": {},
   "outputs": [],
   "source": [
    "# Pattern 11:"
   ]
  },
  {
   "cell_type": "code",
   "execution_count": 45,
   "id": "bcd5a15f",
   "metadata": {},
   "outputs": [
    {
     "name": "stdout",
     "output_type": "stream",
     "text": [
      "         *          \n",
      "        ***         \n",
      "       *****        \n",
      "      *******       \n",
      "     *********      \n"
     ]
    }
   ],
   "source": [
    "x=10\n",
    "a=\"\"\n",
    "while x:\n",
    "    if (11-x)%2!=0:\n",
    "        a=(11-x)*\"*\"\n",
    "        print(a.center(20,\" \"))\n",
    "    x=x-1"
   ]
  },
  {
   "cell_type": "code",
   "execution_count": null,
   "id": "53255eed",
   "metadata": {},
   "outputs": [],
   "source": [
    "# Pattern 12:"
   ]
  },
  {
   "cell_type": "code",
   "execution_count": 46,
   "id": "69197e66",
   "metadata": {},
   "outputs": [
    {
     "name": "stdout",
     "output_type": "stream",
     "text": [
      "         1          \n",
      "        2 2         \n",
      "       3 3 3        \n",
      "      4 4 4 4       \n",
      "     5 5 5 5 5      \n",
      "    6 6 6 6 6 6     \n"
     ]
    }
   ],
   "source": [
    "x=6\n",
    "while x:\n",
    "    print(\" \".join((7-x)*str((7-x))).center(20,\" \"))\n",
    "    x-=1"
   ]
  },
  {
   "cell_type": "code",
   "execution_count": null,
   "id": "ba173595",
   "metadata": {},
   "outputs": [],
   "source": [
    "# Pattern 13:"
   ]
  },
  {
   "cell_type": "code",
   "execution_count": 47,
   "id": "c7e876ae",
   "metadata": {},
   "outputs": [
    {
     "name": "stdout",
     "output_type": "stream",
     "text": [
      "         A          \n",
      "        B B         \n",
      "       C C C        \n",
      "      D D D D       \n",
      "     E E E E E      \n",
      "    F F F F F F     \n"
     ]
    }
   ],
   "source": [
    "x=6\n",
    "while x:\n",
    "    print(\" \".join((7-x)*chr(71-x)).center(20,\" \"))\n",
    "    x-=1"
   ]
  },
  {
   "cell_type": "code",
   "execution_count": null,
   "id": "16a76776",
   "metadata": {},
   "outputs": [],
   "source": [
    "# Pattern 14:"
   ]
  },
  {
   "cell_type": "code",
   "execution_count": 55,
   "id": "1f7daa02",
   "metadata": {},
   "outputs": [
    {
     "name": "stdout",
     "output_type": "stream",
     "text": [
      "1 2 3 4 5 6\n",
      "1 2 3 4 5\n",
      "1 2 3 4\n",
      "1 2 3\n",
      "1 2\n",
      "1\n"
     ]
    }
   ],
   "source": [
    "x=6\n",
    "while x:\n",
    "    a=\"\"\n",
    "    b=x\n",
    "    while b:\n",
    "        a=a+str((x+1)-b)\n",
    "        \n",
    "        b-=1\n",
    "    print(\" \".join(a))\n",
    "    x-=1"
   ]
  },
  {
   "cell_type": "code",
   "execution_count": null,
   "id": "dc994830",
   "metadata": {},
   "outputs": [],
   "source": [
    "# Pattern 15:"
   ]
  },
  {
   "cell_type": "code",
   "execution_count": 11,
   "id": "bce60931",
   "metadata": {},
   "outputs": [
    {
     "name": "stdout",
     "output_type": "stream",
     "text": [
      "5 4 3 2 1\n",
      "5 4 3 2\n",
      "5 4 3\n",
      "5 4\n",
      "5\n"
     ]
    }
   ],
   "source": [
    "x=5\n",
    "while x:\n",
    "    a=\"\"\n",
    "    b=x\n",
    "    while b:\n",
    "        a=a+str(6-(x-b)-1)\n",
    "        b-=1\n",
    "    print(\" \".join(a))\n",
    "    x-=1"
   ]
  },
  {
   "cell_type": "code",
   "execution_count": null,
   "id": "2ee9b3a9",
   "metadata": {},
   "outputs": [],
   "source": [
    "# Pattern 16:"
   ]
  },
  {
   "cell_type": "code",
   "execution_count": 60,
   "id": "ebfdc050",
   "metadata": {},
   "outputs": [
    {
     "name": "stdout",
     "output_type": "stream",
     "text": [
      "5\n",
      "5 4\n",
      "5 4 3\n",
      "5 4 3 2\n",
      "5 4 3 2 1\n"
     ]
    }
   ],
   "source": [
    "x=5\n",
    "a=\"\"\n",
    "while x:\n",
    "    a=a+str(x)\n",
    "    print(\" \".join(a))\n",
    "    x-=1"
   ]
  },
  {
   "cell_type": "code",
   "execution_count": null,
   "id": "0d65bdbb",
   "metadata": {},
   "outputs": [],
   "source": [
    "# Pattern 17:"
   ]
  },
  {
   "cell_type": "code",
   "execution_count": 62,
   "id": "76895329",
   "metadata": {},
   "outputs": [
    {
     "name": "stdout",
     "output_type": "stream",
     "text": [
      "1 \n",
      "2 3 \n",
      "4 5 6 \n",
      "7 8 9 10 \n",
      "11 12 13 14 15 \n"
     ]
    }
   ],
   "source": [
    "x=5\n",
    "num=0\n",
    "while x:\n",
    "    a=\"\"\n",
    "    b=(6-x)\n",
    "    while b:\n",
    "        num+=1\n",
    "        a=a+str(num)+\" \"\n",
    "        b-=1\n",
    "    print(a)\n",
    "    x-=1"
   ]
  },
  {
   "cell_type": "code",
   "execution_count": 14,
   "id": "422c849e",
   "metadata": {},
   "outputs": [],
   "source": [
    "# Pattern 18:"
   ]
  },
  {
   "cell_type": "code",
   "execution_count": 24,
   "id": "a415f336",
   "metadata": {},
   "outputs": [
    {
     "name": "stdout",
     "output_type": "stream",
     "text": [
      "A B C D E\n",
      "A B C D\n",
      "A B C\n",
      "A B\n",
      "A\n"
     ]
    }
   ],
   "source": [
    "x=5\n",
    "while x:\n",
    "    a=\"\"\n",
    "    b=x\n",
    "    while b:\n",
    "        a=a+chr(70-(6-(x-b)-1))\n",
    "        b-=1\n",
    "    print(\" \".join(a))\n",
    "    x-=1"
   ]
  },
  {
   "cell_type": "code",
   "execution_count": null,
   "id": "d5601fe0",
   "metadata": {},
   "outputs": [],
   "source": [
    "# Pattern 19:"
   ]
  },
  {
   "cell_type": "code",
   "execution_count": 25,
   "id": "8a2faf39",
   "metadata": {},
   "outputs": [
    {
     "name": "stdout",
     "output_type": "stream",
     "text": [
      "******\n",
      "*****\n",
      "****\n",
      "***\n",
      "**\n",
      "*\n"
     ]
    }
   ],
   "source": [
    "x=6\n",
    "while x:\n",
    "    print(x*\"*\")\n",
    "    x-=1"
   ]
  },
  {
   "cell_type": "code",
   "execution_count": null,
   "id": "2cb3cc75",
   "metadata": {},
   "outputs": [],
   "source": [
    "# Pattern 20:"
   ]
  },
  {
   "cell_type": "code",
   "execution_count": 64,
   "id": "2c3835c0",
   "metadata": {},
   "outputs": [
    {
     "name": "stdout",
     "output_type": "stream",
     "text": [
      " ******\n",
      "  *****\n",
      "   ****\n",
      "    ***\n",
      "     **\n",
      "      *\n"
     ]
    }
   ],
   "source": [
    "x=6\n",
    "while x:\n",
    "    print((7-x)*\" \"+(x)*\"*\")\n",
    "    x-=1"
   ]
  },
  {
   "cell_type": "code",
   "execution_count": null,
   "id": "a40fcc32",
   "metadata": {},
   "outputs": [],
   "source": [
    "# Pattern 21:"
   ]
  },
  {
   "cell_type": "code",
   "execution_count": 26,
   "id": "313e5c55",
   "metadata": {},
   "outputs": [
    {
     "name": "stdout",
     "output_type": "stream",
     "text": [
      "*\n",
      "**\n",
      "***\n",
      "****\n",
      "*****\n",
      "****\n",
      "***\n",
      "**\n",
      "*\n"
     ]
    }
   ],
   "source": [
    "x=6\n",
    "b=x-2\n",
    "while x:\n",
    "    if x==1:\n",
    "        while b:\n",
    "            print((b)*\"*\")\n",
    "            b-=1\n",
    "    else:\n",
    "        print((7-x)*\"*\")\n",
    "    x-=1"
   ]
  },
  {
   "cell_type": "code",
   "execution_count": null,
   "id": "aef62aee",
   "metadata": {},
   "outputs": [],
   "source": [
    "# Pattern 22:"
   ]
  },
  {
   "cell_type": "code",
   "execution_count": 70,
   "id": "c17eec6d",
   "metadata": {},
   "outputs": [
    {
     "name": "stdout",
     "output_type": "stream",
     "text": [
      "*****\n",
      "****\n",
      "***\n",
      "**\n",
      "*\n",
      "**\n",
      "***\n",
      "****\n",
      "*****\n",
      "******\n"
     ]
    }
   ],
   "source": [
    "x=6\n",
    "b=x-1\n",
    "while x:\n",
    "    if x==6:\n",
    "        while b:\n",
    "            print((b)*\"*\")\n",
    "            b-=1\n",
    "    else:\n",
    "        print((7-x)*\"*\")\n",
    "    x-=1"
   ]
  },
  {
   "cell_type": "code",
   "execution_count": 85,
   "id": "b729b981",
   "metadata": {},
   "outputs": [],
   "source": [
    "# Pattern 23:"
   ]
  },
  {
   "cell_type": "code",
   "execution_count": 91,
   "id": "3f6f9bcd",
   "metadata": {},
   "outputs": [
    {
     "name": "stdout",
     "output_type": "stream",
     "text": [
      "      *\n",
      "     **\n",
      "    ***\n",
      "   ****\n",
      "  *****\n",
      " ******\n",
      "  *****\n",
      "   ****\n",
      "    ***\n",
      "     **\n",
      "      *\n"
     ]
    }
   ],
   "source": [
    "x=6\n",
    "b=x\n",
    "while x:\n",
    "    if x==6:\n",
    "        while b:\n",
    "            print((b)*\" \"+(7-b)*\"*\")\n",
    "            b-=1\n",
    "    else:\n",
    "        print((7-x)*\" \"+(x)*\"*\")\n",
    "    x-=1"
   ]
  },
  {
   "cell_type": "code",
   "execution_count": null,
   "id": "88f52dce",
   "metadata": {},
   "outputs": [],
   "source": [
    "# Pattern 24:"
   ]
  },
  {
   "cell_type": "code",
   "execution_count": 27,
   "id": "a10aa39c",
   "metadata": {},
   "outputs": [
    {
     "name": "stdout",
     "output_type": "stream",
     "text": [
      " ******\n",
      "  *****\n",
      "   ****\n",
      "    ***\n",
      "     **\n",
      "      *\n",
      "     **\n",
      "    ***\n",
      "   ****\n",
      "  *****\n",
      " ******\n"
     ]
    }
   ],
   "source": [
    "x=6\n",
    "b=x\n",
    "while x:\n",
    "    if x==6:\n",
    "        while b:\n",
    "            print((7-b)*\" \"+(b)*\"*\")\n",
    "            b-=1\n",
    "    else:\n",
    "        print((x)*\" \"+(7-x)*\"*\")\n",
    "    x-=1"
   ]
  },
  {
   "cell_type": "code",
   "execution_count": null,
   "id": "49ead1a2",
   "metadata": {},
   "outputs": [],
   "source": [
    "# Pattern 25:"
   ]
  },
  {
   "cell_type": "code",
   "execution_count": 108,
   "id": "5af2d7f2",
   "metadata": {},
   "outputs": [
    {
     "name": "stdout",
     "output_type": "stream",
     "text": [
      "     *********      \n",
      "      *******       \n",
      "       *****        \n",
      "        ***         \n",
      "         *          \n",
      "        ***         \n",
      "       *****        \n",
      "      *******       \n",
      "     *********      \n"
     ]
    }
   ],
   "source": [
    "x=10\n",
    "b=x\n",
    "while x:\n",
    "    if x%2!=0:\n",
    "        if x==1:\n",
    "            while b:\n",
    "                if (11-b)%2!=0:\n",
    "                    a=(11-b)*\"*\"\n",
    "                    print(a.center(20,\" \"))\n",
    "                b-=1\n",
    "        else:\n",
    "            a=x*\"*\"\n",
    "            print(a.center(20,\" \"))\n",
    "    x-=1\n",
    "\n",
    "\n",
    "# x=10\n",
    "# b=x\n",
    "# while x:\n",
    "#     if x%2!=0:\n",
    "#         if x==9:\n",
    "#             while b:\n",
    "#                 if (11-b)%2!=0:\n",
    "#                     a=(11-b)*\"*\"\n",
    "#                     print(a.center(20,\" \"))\n",
    "#                 b-=1\n",
    "#         else:\n",
    "#             a=x*\"*\"\n",
    "#             print(a.center(20,\" \"))\n",
    "#     x-=1"
   ]
  },
  {
   "cell_type": "code",
   "execution_count": null,
   "id": "deb74096",
   "metadata": {},
   "outputs": [],
   "source": [
    "# Pattern 26:"
   ]
  },
  {
   "cell_type": "code",
   "execution_count": 123,
   "id": "6548c39c",
   "metadata": {},
   "outputs": [
    {
     "name": "stdout",
     "output_type": "stream",
     "text": [
      "*          *\n",
      "**        **\n",
      "***      ***\n",
      "****    ****\n",
      "*****  *****\n",
      "************\n"
     ]
    }
   ],
   "source": [
    "x=6\n",
    "while x:\n",
    "    print((7-x)*\"*\"+\" \"*(7-((7-x)+1))+\" \"*(7-((7-x)+1))+(7-x)*\"*\")\n",
    "    x-=1"
   ]
  },
  {
   "cell_type": "code",
   "execution_count": null,
   "id": "5c7df95c",
   "metadata": {},
   "outputs": [],
   "source": [
    "# Pattern 27:"
   ]
  },
  {
   "cell_type": "code",
   "execution_count": 122,
   "id": "362cebaa",
   "metadata": {},
   "outputs": [
    {
     "name": "stdout",
     "output_type": "stream",
     "text": [
      "************\n",
      "*****  *****\n",
      "****    ****\n",
      "***      ***\n",
      "**        **\n",
      "*          *\n"
     ]
    }
   ],
   "source": [
    "x=6\n",
    "while x:\n",
    "    print((x)*\"*\"+\" \"*(7-x-1)+\" \"*(7-x-1)+(x)*\"*\")\n",
    "    x-=1"
   ]
  },
  {
   "cell_type": "code",
   "execution_count": 125,
   "id": "fe82e296",
   "metadata": {},
   "outputs": [],
   "source": [
    "# Pattern 28:"
   ]
  },
  {
   "cell_type": "code",
   "execution_count": 126,
   "id": "3b36267f",
   "metadata": {},
   "outputs": [
    {
     "name": "stdout",
     "output_type": "stream",
     "text": [
      "*          *\n",
      "**        **\n",
      "***      ***\n",
      "****    ****\n",
      "*****  *****\n",
      "************\n",
      "*****  *****\n",
      "****    ****\n",
      "***      ***\n",
      "**        **\n",
      "*          *\n"
     ]
    }
   ],
   "source": [
    "x=6\n",
    "b=x\n",
    "while x:\n",
    "    if x==1:\n",
    "        while b:\n",
    "            print((b)*\"*\"+\" \"*(7-b-1)+\" \"*(7-b-1)+(b)*\"*\")\n",
    "            b-=1\n",
    "    else:\n",
    "        print((7-x)*\"*\"+\" \"*(7-((7-x)+1))+\" \"*(7-((7-x)+1))+(7-x)*\"*\")\n",
    "    x-=1"
   ]
  },
  {
   "cell_type": "code",
   "execution_count": null,
   "id": "21be1dc3",
   "metadata": {},
   "outputs": [],
   "source": [
    "# Pattern 29:"
   ]
  },
  {
   "cell_type": "code",
   "execution_count": 124,
   "id": "f91e1766",
   "metadata": {},
   "outputs": [
    {
     "name": "stdout",
     "output_type": "stream",
     "text": [
      "************\n",
      "*****  *****\n",
      "****    ****\n",
      "***      ***\n",
      "**        **\n",
      "*          *\n",
      "**        **\n",
      "***      ***\n",
      "****    ****\n",
      "*****  *****\n",
      "************\n"
     ]
    }
   ],
   "source": [
    "x=6\n",
    "b=x\n",
    "while x:\n",
    "    if (7-x)==1:\n",
    "        while b:\n",
    "            print((b)*\"*\"+\" \"*(7-b-1)+\" \"*(7-b-1)+(b)*\"*\")\n",
    "            b-=1\n",
    "    else:\n",
    "        print((7-x)*\"*\"+\" \"*(7-((7-x)+1))+\" \"*(7-((7-x)+1))+(7-x)*\"*\")\n",
    "    x-=1"
   ]
  },
  {
   "cell_type": "code",
   "execution_count": null,
   "id": "eaa4c441",
   "metadata": {},
   "outputs": [],
   "source": [
    "# Pattern 30:"
   ]
  },
  {
   "cell_type": "code",
   "execution_count": 133,
   "id": "5906388f",
   "metadata": {},
   "outputs": [
    {
     "name": "stdout",
     "output_type": "stream",
     "text": [
      "*\n",
      "**\n",
      "* *\n",
      "*  *\n",
      "*   *\n",
      "******\n"
     ]
    }
   ],
   "source": [
    "x=6\n",
    "while x:\n",
    "    if x==6:\n",
    "        print((7-x)*\"*\")\n",
    "    elif x==1:\n",
    "        print((x+5)*\"*\")\n",
    "    else:\n",
    "        print(\"*\"+(7-x-2)*\" \"+\"*\")\n",
    "    x-=1"
   ]
  },
  {
   "cell_type": "code",
   "execution_count": null,
   "id": "4b21b2a3",
   "metadata": {},
   "outputs": [],
   "source": [
    "# Pattern 31:\n"
   ]
  },
  {
   "cell_type": "code",
   "execution_count": 136,
   "id": "20514e28",
   "metadata": {},
   "outputs": [
    {
     "name": "stdout",
     "output_type": "stream",
     "text": [
      "******\n",
      "*   *\n",
      "*  *\n",
      "* *\n",
      "**\n",
      "*\n"
     ]
    }
   ],
   "source": [
    "x=6\n",
    "while x:\n",
    "    if x==6 or x==1:\n",
    "        print(x*\"*\")\n",
    "    else:\n",
    "        print(\"*\"+(x-2)*\" \"+\"*\")\n",
    "    x-=1"
   ]
  },
  {
   "cell_type": "code",
   "execution_count": null,
   "id": "4836b9a5",
   "metadata": {},
   "outputs": [],
   "source": [
    "# Pattern 32:"
   ]
  },
  {
   "cell_type": "code",
   "execution_count": 137,
   "id": "d34473d9",
   "metadata": {},
   "outputs": [
    {
     "name": "stdout",
     "output_type": "stream",
     "text": [
      "      *\n",
      "     **\n",
      "    * *\n",
      "   *  *\n",
      "  *   *\n",
      " ******\n"
     ]
    }
   ],
   "source": [
    "x=6\n",
    "while x:\n",
    "    if x==6:\n",
    "        print(x*\" \"+(7-x)*\"*\")\n",
    "    elif x==1:\n",
    "        print(x*\" \"+(x+5)*\"*\")\n",
    "    else:\n",
    "        print(x*\" \"+\"*\"+(7-x-2)*\" \"+\"*\")\n",
    "    x-=1"
   ]
  },
  {
   "cell_type": "code",
   "execution_count": null,
   "id": "a63973b0",
   "metadata": {},
   "outputs": [],
   "source": [
    "# Pattern 33:"
   ]
  },
  {
   "cell_type": "code",
   "execution_count": 139,
   "id": "9bf7a23a",
   "metadata": {},
   "outputs": [
    {
     "name": "stdout",
     "output_type": "stream",
     "text": [
      "******\n",
      "*   *\n",
      "*  *\n",
      "* *\n",
      "**\n",
      "*\n",
      "**\n",
      "* *\n",
      "*  *\n",
      "*   *\n",
      "******\n"
     ]
    }
   ],
   "source": [
    "x=6\n",
    "b=x\n",
    "while x:\n",
    "    if x==6:\n",
    "        print(x*\"*\")\n",
    "    elif x==1:\n",
    "        while b:\n",
    "            if b==6:\n",
    "                print((7-b)*\"*\")\n",
    "            elif b==1:\n",
    "                print((b+5)*\"*\")\n",
    "            else:\n",
    "                print(\"*\"+(7-b-2)*\" \"+\"*\")\n",
    "            b-=1\n",
    "    else:\n",
    "        print(\"*\"+(x-2)*\" \"+\"*\")\n",
    "    x-=1"
   ]
  },
  {
   "cell_type": "code",
   "execution_count": null,
   "id": "eb4dff2e",
   "metadata": {},
   "outputs": [],
   "source": [
    "# Pattern 34:"
   ]
  },
  {
   "cell_type": "code",
   "execution_count": 28,
   "id": "8cd52a3e",
   "metadata": {},
   "outputs": [
    {
     "name": "stdout",
     "output_type": "stream",
     "text": [
      "      *\n",
      "     **\n",
      "    * *\n",
      "   *  *\n",
      "  *   *\n",
      " *    *\n",
      "  *   *\n",
      "   *  *\n",
      "    * *\n",
      "     **\n",
      "      *\n"
     ]
    }
   ],
   "source": [
    "x=6\n",
    "b=x\n",
    "while x:\n",
    "    if x==6:\n",
    "        print(x*\" \"+(7-x)*\"*\")\n",
    "    elif x==1:\n",
    "#         x=5\n",
    "        while b:\n",
    "            if b==1:\n",
    "                print((7-b)*\" \"+b*\"*\")\n",
    "            else:\n",
    "                print((7-b)*\" \"+\"*\"+(b-2)*\" \"+\"*\")\n",
    "            b-=1\n",
    "    else:\n",
    "        print(x*\" \"+\"*\"+(7-x-2)*\" \"+\"*\")\n",
    "    x-=1"
   ]
  },
  {
   "cell_type": "code",
   "execution_count": null,
   "id": "29589c89",
   "metadata": {},
   "outputs": [],
   "source": [
    "# Pattern 35:"
   ]
  },
  {
   "cell_type": "code",
   "execution_count": 22,
   "id": "dcd6a94b",
   "metadata": {},
   "outputs": [
    {
     "name": "stdout",
     "output_type": "stream",
     "text": [
      " ******\n",
      "  *   *\n",
      "   *  *\n",
      "    * *\n",
      "     **\n",
      "      *\n",
      "     **\n",
      "    * *\n",
      "   *  *\n",
      "  *   *\n",
      " ******\n"
     ]
    }
   ],
   "source": [
    "x=6\n",
    "b=x\n",
    "while x:\n",
    "    if x==6:\n",
    "        print((7-x)*\" \"+x*\"*\")\n",
    "    elif x==1:\n",
    "        while b:\n",
    "            if b==6:\n",
    "                print((b)*\" \"+(7-b)*\"*\")\n",
    "            elif b==1:\n",
    "                print((b)*\" \"+(b+5)*\"*\")\n",
    "            else:\n",
    "                print((b)*\" \"+\"*\"+(7-b-2)*\" \"+\"*\")\n",
    "            b-=1\n",
    "    else:\n",
    "        print((7-x)*\" \"+\"*\"+(x-2)*\" \"+\"*\")\n",
    "    x-=1"
   ]
  },
  {
   "cell_type": "code",
   "execution_count": null,
   "id": "d760141a",
   "metadata": {},
   "outputs": [],
   "source": [
    "# Pattern 36:"
   ]
  },
  {
   "cell_type": "code",
   "execution_count": 30,
   "id": "5582d946",
   "metadata": {},
   "outputs": [
    {
     "name": "stdout",
     "output_type": "stream",
     "text": [
      "         *          \n",
      "        * *         \n",
      "       *   *        \n",
      "      *     *       \n",
      "     *********      \n"
     ]
    }
   ],
   "source": [
    "x=10\n",
    "a=\"\"\n",
    "while x:\n",
    "    if (11-x)%2!=0:\n",
    "        if (11-x)==1 or x==2:\n",
    "            a=(11-x)*\"*\"\n",
    "            print(a.center(20,\" \"))\n",
    "        else:\n",
    "            a=\"*\"+((11-x)-2)*\" \"+\"*\"\n",
    "            print(a.center(20,\" \"))\n",
    "        \n",
    "    x=x-1"
   ]
  },
  {
   "cell_type": "code",
   "execution_count": null,
   "id": "606a0a16",
   "metadata": {},
   "outputs": [],
   "source": [
    "# Pattern 37:"
   ]
  },
  {
   "cell_type": "code",
   "execution_count": 38,
   "id": "0449bb39",
   "metadata": {},
   "outputs": [
    {
     "name": "stdout",
     "output_type": "stream",
     "text": [
      "     *********      \n",
      "      *     *       \n",
      "       *   *        \n",
      "        * *         \n",
      "         *          \n"
     ]
    }
   ],
   "source": [
    "x=10\n",
    "a=\"\"\n",
    "while x:\n",
    "    if (x)%2!=0:\n",
    "        if x==9 or x==1:\n",
    "            a=(x)*\"*\"\n",
    "            print(a.center(20,\" \"))\n",
    "        else:\n",
    "            a=\"*\"+((x)-2)*\" \"+\"*\"\n",
    "            print(a.center(20,\" \"))\n",
    "        \n",
    "    x=x-1"
   ]
  },
  {
   "cell_type": "code",
   "execution_count": null,
   "id": "9b8298e6",
   "metadata": {},
   "outputs": [],
   "source": [
    "# Pattern 38:"
   ]
  },
  {
   "cell_type": "code",
   "execution_count": 45,
   "id": "e6e0a6b5",
   "metadata": {},
   "outputs": [
    {
     "name": "stdout",
     "output_type": "stream",
     "text": [
      "         *          \n",
      "        * *         \n",
      "       *   *        \n",
      "      *     *       \n",
      "     *       *      \n",
      "      *     *       \n",
      "       *   *        \n",
      "        * *         \n",
      "         *          \n"
     ]
    }
   ],
   "source": [
    "x=10\n",
    "b=x\n",
    "while x:\n",
    "    if (11-x)%2!=0:\n",
    "        if (11-x)==1:\n",
    "            a=(11-x)*\"*\"\n",
    "            print(a.center(20,\" \"))\n",
    "        elif x==2:\n",
    "                while b:\n",
    "                    if (b)%2!=0:\n",
    "                        if b==1:\n",
    "                            a=(b)*\"*\"\n",
    "                            print(a.center(20,\" \"))\n",
    "                        else:\n",
    "                            a=\"*\"+((b)-2)*\" \"+\"*\"\n",
    "                            print(a.center(20,\" \"))\n",
    "\n",
    "                    b=b-1\n",
    "        else:\n",
    "            a=\"*\"+((11-x)-2)*\" \"+\"*\"\n",
    "            print(a.center(20,\" \"))\n",
    "        \n",
    "    x=x-1"
   ]
  },
  {
   "cell_type": "code",
   "execution_count": null,
   "id": "8fe238c4",
   "metadata": {},
   "outputs": [],
   "source": [
    "# Pattern 39:"
   ]
  },
  {
   "cell_type": "code",
   "execution_count": 29,
   "id": "8664e123",
   "metadata": {},
   "outputs": [
    {
     "name": "stdout",
     "output_type": "stream",
     "text": [
      "     *********      \n",
      "      *     *       \n",
      "       *   *        \n",
      "        * *         \n",
      "         *          \n",
      "        * *         \n",
      "       *   *        \n",
      "      *     *       \n",
      "     *********      \n"
     ]
    }
   ],
   "source": [
    "x=10\n",
    "b=x\n",
    "while x:\n",
    "    if (x)%2!=0:\n",
    "        if x==9:\n",
    "            a=(x)*\"*\"\n",
    "            print(a.center(20,\" \"))\n",
    "        elif x==1:\n",
    "            while b:\n",
    "                if (11-b)%2!=0:\n",
    "                    if (11-b)==1 or b==2:\n",
    "                        a=(11-b)*\"*\"\n",
    "                        print(a.center(20,\" \"))\n",
    "                    else:\n",
    "                        a=\"*\"+((11-b)-2)*\" \"+\"*\"\n",
    "                        print(a.center(20,\" \"))\n",
    "\n",
    "                b=b-1\n",
    "        else:\n",
    "            a=\"*\"+((x)-2)*\" \"+\"*\"\n",
    "            print(a.center(20,\" \"))\n",
    "        \n",
    "    x=x-1"
   ]
  },
  {
   "cell_type": "code",
   "execution_count": 30,
   "id": "c8ac8820",
   "metadata": {},
   "outputs": [],
   "source": [
    "# Pattern 40:"
   ]
  },
  {
   "cell_type": "code",
   "execution_count": 31,
   "id": "44b5787d",
   "metadata": {},
   "outputs": [
    {
     "name": "stdout",
     "output_type": "stream",
     "text": [
      "*****\n",
      "*****\n",
      "*****\n",
      "*****\n",
      "*****\n",
      "*****\n"
     ]
    }
   ],
   "source": [
    "x=6\n",
    "while x:\n",
    "    print(5*\"*\")\n",
    "    x-=1"
   ]
  },
  {
   "cell_type": "code",
   "execution_count": null,
   "id": "255796d3",
   "metadata": {},
   "outputs": [],
   "source": []
  },
  {
   "cell_type": "code",
   "execution_count": null,
   "id": "ce4aa952",
   "metadata": {},
   "outputs": [],
   "source": []
  },
  {
   "cell_type": "code",
   "execution_count": null,
   "id": "13632ae1",
   "metadata": {},
   "outputs": [],
   "source": []
  },
  {
   "cell_type": "code",
   "execution_count": null,
   "id": "b82e1fc0",
   "metadata": {},
   "outputs": [],
   "source": []
  }
 ],
 "metadata": {
  "kernelspec": {
   "display_name": "Python 3 (ipykernel)",
   "language": "python",
   "name": "python3"
  },
  "language_info": {
   "codemirror_mode": {
    "name": "ipython",
    "version": 3
   },
   "file_extension": ".py",
   "mimetype": "text/x-python",
   "name": "python",
   "nbconvert_exporter": "python",
   "pygments_lexer": "ipython3",
   "version": "3.9.6"
  }
 },
 "nbformat": 4,
 "nbformat_minor": 5
}
